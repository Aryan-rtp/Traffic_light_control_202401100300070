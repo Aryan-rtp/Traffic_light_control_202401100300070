{
  "nbformat": 4,
  "nbformat_minor": 0,
  "metadata": {
    "colab": {
      "provenance": []
    },
    "kernelspec": {
      "name": "python3",
      "display_name": "Python 3"
    },
    "language_info": {
      "name": "python"
    }
  },
  "cells": [
    {
      "cell_type": "code",
      "execution_count": 16,
      "metadata": {
        "id": "XZyMwMnVfopB"
      },
      "outputs": [],
      "source": [
        "import time\n",
        "import pandas as pd"
      ]
    },
    {
      "cell_type": "markdown",
      "source": [
        "# Load dataset"
      ],
      "metadata": {
        "id": "r9mNQkuylvVy"
      }
    },
    {
      "cell_type": "code",
      "source": [
        "file_path = \"/content/traffic_data.csv\"\n",
        "df = pd.read_csv(file_path)"
      ],
      "metadata": {
        "id": "fgcpGqNtlV0r"
      },
      "execution_count": 18,
      "outputs": []
    },
    {
      "cell_type": "markdown",
      "source": [
        "# Function to determine signal timing"
      ],
      "metadata": {
        "id": "dnZkARlSliU1"
      }
    },
    {
      "cell_type": "code",
      "source": [
        "\n",
        "\n",
        "def get_signal_timing(traffic_density):\n",
        "    if traffic_density < 1000:\n",
        "        return {'Green': 10, 'Yellow': 3, 'Red': 5}  # Low traffic\n",
        "    elif 1000 <= traffic_density < 5000:\n",
        "        return {'Green': 7, 'Yellow': 3, 'Red': 8}  # Medium traffic\n",
        "    else:\n",
        "        return {'Green': 5, 'Yellow': 3, 'Red': 10}  # High traffic"
      ],
      "metadata": {
        "id": "7xD0vIQ7lhBJ"
      },
      "execution_count": 19,
      "outputs": []
    },
    {
      "cell_type": "markdown",
      "source": [
        "# Real-time Traffic Light Control Simulation"
      ],
      "metadata": {
        "id": "ugjlBprhlngc"
      }
    },
    {
      "cell_type": "code",
      "source": [
        "\n",
        "\n",
        "while True:\n",
        "    for index, row in df.iterrows():\n",
        "        date = row['Date']\n",
        "        traffic_density = row['UniqueVisitors']\n",
        "        timings = get_signal_timing(traffic_density)\n",
        "\n",
        "        print(f\"\\nDate: {date}, Traffic Density: {traffic_density}\")\n",
        "\n",
        "        for light, duration in timings.items():\n",
        "            print(f\"{light} Light ON for {duration} seconds\")\n",
        "            time.sleep(duration)  # Real-time delay\n",
        "\n",
        "        print(\"Updating traffic data...\")\n",
        "        time.sleep(5)  # Wait before next update (simulate real-time behavior)\n",
        "\n",
        "    print(\"Restarting traffic light cycle...\")"
      ],
      "metadata": {
        "colab": {
          "base_uri": "https://localhost:8080/",
          "height": 401
        },
        "id": "WCetyEhNlmQl",
        "outputId": "0a7f6bc0-658e-4ec4-f15e-5c9e0acf795d"
      },
      "execution_count": 21,
      "outputs": [
        {
          "output_type": "stream",
          "name": "stdout",
          "text": [
            "\n",
            "Date: 2024-01-01, Traffic Density: 1261\n",
            "Green Light ON for 7 seconds\n",
            "Yellow Light ON for 3 seconds\n",
            "Red Light ON for 8 seconds\n",
            "Updating traffic data...\n",
            "\n",
            "Date: 2024-01-02, Traffic Density: 4225\n",
            "Green Light ON for 7 seconds\n",
            "Yellow Light ON for 3 seconds\n",
            "Red Light ON for 8 seconds\n"
          ]
        },
        {
          "output_type": "error",
          "ename": "KeyboardInterrupt",
          "evalue": "",
          "traceback": [
            "\u001b[0;31m---------------------------------------------------------------------------\u001b[0m",
            "\u001b[0;31mKeyboardInterrupt\u001b[0m                         Traceback (most recent call last)",
            "\u001b[0;32m<ipython-input-21-7aa68bb1e54b>\u001b[0m in \u001b[0;36m<cell line: 0>\u001b[0;34m()\u001b[0m\n\u001b[1;32m      9\u001b[0m         \u001b[0;32mfor\u001b[0m \u001b[0mlight\u001b[0m\u001b[0;34m,\u001b[0m \u001b[0mduration\u001b[0m \u001b[0;32min\u001b[0m \u001b[0mtimings\u001b[0m\u001b[0;34m.\u001b[0m\u001b[0mitems\u001b[0m\u001b[0;34m(\u001b[0m\u001b[0;34m)\u001b[0m\u001b[0;34m:\u001b[0m\u001b[0;34m\u001b[0m\u001b[0;34m\u001b[0m\u001b[0m\n\u001b[1;32m     10\u001b[0m             \u001b[0mprint\u001b[0m\u001b[0;34m(\u001b[0m\u001b[0;34mf\"{light} Light ON for {duration} seconds\"\u001b[0m\u001b[0;34m)\u001b[0m\u001b[0;34m\u001b[0m\u001b[0;34m\u001b[0m\u001b[0m\n\u001b[0;32m---> 11\u001b[0;31m             \u001b[0mtime\u001b[0m\u001b[0;34m.\u001b[0m\u001b[0msleep\u001b[0m\u001b[0;34m(\u001b[0m\u001b[0mduration\u001b[0m\u001b[0;34m)\u001b[0m  \u001b[0;31m# Real-time delay\u001b[0m\u001b[0;34m\u001b[0m\u001b[0;34m\u001b[0m\u001b[0m\n\u001b[0m\u001b[1;32m     12\u001b[0m \u001b[0;34m\u001b[0m\u001b[0m\n\u001b[1;32m     13\u001b[0m         \u001b[0mprint\u001b[0m\u001b[0;34m(\u001b[0m\u001b[0;34m\"Updating traffic data...\"\u001b[0m\u001b[0;34m)\u001b[0m\u001b[0;34m\u001b[0m\u001b[0;34m\u001b[0m\u001b[0m\n",
            "\u001b[0;31mKeyboardInterrupt\u001b[0m: "
          ]
        }
      ]
    }
  ]
}